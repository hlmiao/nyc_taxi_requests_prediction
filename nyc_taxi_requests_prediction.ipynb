{
 "cells": [
  {
   "cell_type": "code",
   "execution_count": 2,
   "metadata": {},
   "outputs": [],
   "source": [
    "# imports\n",
    "import numpy as np\n",
    "import pandas as pd"
   ]
  },
  {
   "cell_type": "code",
   "execution_count": 8,
   "metadata": {},
   "outputs": [
    {
     "name": "stdout",
     "output_type": "stream",
     "text": [
      "sample: (1000, 17)    VendorID tpep_pickup_datetime tpep_dropoff_datetime  passenger_count  \\\n",
      "0         1  2018-01-01 00:21:05   2018-01-01 00:24:23                1   \n",
      "1         1  2018-01-01 00:44:55   2018-01-01 01:03:05                1   \n",
      "2         1  2018-01-01 00:08:26   2018-01-01 00:14:21                2   \n",
      "3         1  2018-01-01 00:20:22   2018-01-01 00:52:51                1   \n",
      "4         1  2018-01-01 00:09:18   2018-01-01 00:27:06                2   \n",
      "\n",
      "   trip_distance  RatecodeID store_and_fwd_flag  PULocationID  DOLocationID  \\\n",
      "0            0.5           1                  N            41            24   \n",
      "1            2.7           1                  N           239           140   \n",
      "2            0.8           1                  N           262           141   \n",
      "3           10.2           1                  N           140           257   \n",
      "4            2.5           1                  N           246           239   \n",
      "\n",
      "   payment_type  fare_amount  extra  mta_tax  tip_amount  tolls_amount  \\\n",
      "0             2          4.5    0.5      0.5        0.00           0.0   \n",
      "1             2         14.0    0.5      0.5        0.00           0.0   \n",
      "2             1          6.0    0.5      0.5        1.00           0.0   \n",
      "3             2         33.5    0.5      0.5        0.00           0.0   \n",
      "4             1         12.5    0.5      0.5        2.75           0.0   \n",
      "\n",
      "   improvement_surcharge  total_amount  \n",
      "0                    0.3          5.80  \n",
      "1                    0.3         15.30  \n",
      "2                    0.3          8.30  \n",
      "3                    0.3         34.80  \n",
      "4                    0.3         16.55  \n"
     ]
    }
   ],
   "source": [
    "sample=pd.read_csv('nyc-tlc/trip data/sample.csv')\n",
    "print('sample:', sample.shape, sample.head())"
   ]
  },
  {
   "cell_type": "code",
   "execution_count": null,
   "metadata": {},
   "outputs": [],
   "source": [
    "tripdata_201801=pd.read_csv('nyc-tlc/trip data/yellow_tripdata_2018-01.csv')\n",
    "print('tripdata_201801:', tripdata_201801.shape, tripdata_201801.head())"
   ]
  }
 ],
 "metadata": {
  "kernelspec": {
   "display_name": "Python 3",
   "language": "python",
   "name": "python3"
  },
  "language_info": {
   "codemirror_mode": {
    "name": "ipython",
    "version": 3
   },
   "file_extension": ".py",
   "mimetype": "text/x-python",
   "name": "python",
   "nbconvert_exporter": "python",
   "pygments_lexer": "ipython3",
   "version": "3.6.5"
  }
 },
 "nbformat": 4,
 "nbformat_minor": 2
}
