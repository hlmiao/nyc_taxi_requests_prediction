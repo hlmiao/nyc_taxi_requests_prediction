{
 "cells": [
  {
   "cell_type": "code",
   "execution_count": 2,
   "metadata": {},
   "outputs": [],
   "source": [
    "# imports\n",
    "import numpy as np\n",
    "import pandas as pd"
   ]
  },
  {
   "cell_type": "code",
   "execution_count": 13,
   "metadata": {},
   "outputs": [
    {
     "name": "stdout",
     "output_type": "stream",
     "text": [
      "taxi_zone_lookup: (265, 4)\n",
      "   LocationID        Borough                     Zone service_zone\n",
      "0           1            EWR           Newark Airport          EWR\n",
      "1           2         Queens              Jamaica Bay    Boro Zone\n",
      "2           3          Bronx  Allerton/Pelham Gardens    Boro Zone\n",
      "3           4      Manhattan            Alphabet City  Yellow Zone\n",
      "4           5  Staten Island            Arden Heights    Boro Zone\n",
      "manhattan_location_ids: (69,)\n",
      "[  4  12  13  24  41  42  43  45  48  50  68  74  75  79  87  88  90 100\n",
      " 103 104 105 107 113 114 116 120 125 127 128 137 140 141 142 143 144 148\n",
      " 151 152 153 158 161 162 163 164 166 170 186 194 202 209 211 224 229 230\n",
      " 231 232 233 234 236 237 238 239 243 244 246 249 261 262 263]\n"
     ]
    }
   ],
   "source": [
    "taxi_zone_lookup = pd.read_csv('nyc-tlc/trip data/taxi_zone_lookup.csv')\n",
    "print('taxi_zone_lookup:', taxi_zone_lookup.shape)\n",
    "print(taxi_zone_lookup.head())\n",
    "manhattan_location_ids = taxi_zone_lookup[taxi_zone_lookup['Borough']=='Manhattan']['LocationID'].values\n",
    "print('manhattan_location_ids:', manhattan_location_ids.shape)\n",
    "print(manhattan_location_ids)"
   ]
  },
  {
   "cell_type": "code",
   "execution_count": 14,
   "metadata": {},
   "outputs": [
    {
     "name": "stdout",
     "output_type": "stream",
     "text": [
      "sample: (1000, 17)\n",
      "   VendorID tpep_pickup_datetime tpep_dropoff_datetime  passenger_count  \\\n",
      "0         1  2018-01-01 00:21:05   2018-01-01 00:24:23                1   \n",
      "1         1  2018-01-01 00:44:55   2018-01-01 01:03:05                1   \n",
      "2         1  2018-01-01 00:08:26   2018-01-01 00:14:21                2   \n",
      "3         1  2018-01-01 00:20:22   2018-01-01 00:52:51                1   \n",
      "4         1  2018-01-01 00:09:18   2018-01-01 00:27:06                2   \n",
      "\n",
      "   trip_distance  RatecodeID store_and_fwd_flag  PULocationID  DOLocationID  \\\n",
      "0            0.5           1                  N            41            24   \n",
      "1            2.7           1                  N           239           140   \n",
      "2            0.8           1                  N           262           141   \n",
      "3           10.2           1                  N           140           257   \n",
      "4            2.5           1                  N           246           239   \n",
      "\n",
      "   payment_type  fare_amount  extra  mta_tax  tip_amount  tolls_amount  \\\n",
      "0             2          4.5    0.5      0.5        0.00           0.0   \n",
      "1             2         14.0    0.5      0.5        0.00           0.0   \n",
      "2             1          6.0    0.5      0.5        1.00           0.0   \n",
      "3             2         33.5    0.5      0.5        0.00           0.0   \n",
      "4             1         12.5    0.5      0.5        2.75           0.0   \n",
      "\n",
      "   improvement_surcharge  total_amount  \n",
      "0                    0.3          5.80  \n",
      "1                    0.3         15.30  \n",
      "2                    0.3          8.30  \n",
      "3                    0.3         34.80  \n",
      "4                    0.3         16.55  \n",
      "sample_manhattan: (908, 17)\n",
      "   VendorID tpep_pickup_datetime tpep_dropoff_datetime  passenger_count  \\\n",
      "0         1  2018-01-01 00:21:05   2018-01-01 00:24:23                1   \n",
      "1         1  2018-01-01 00:44:55   2018-01-01 01:03:05                1   \n",
      "2         1  2018-01-01 00:08:26   2018-01-01 00:14:21                2   \n",
      "3         1  2018-01-01 00:20:22   2018-01-01 00:52:51                1   \n",
      "4         1  2018-01-01 00:09:18   2018-01-01 00:27:06                2   \n",
      "\n",
      "   trip_distance  RatecodeID store_and_fwd_flag  PULocationID  DOLocationID  \\\n",
      "0            0.5           1                  N            41            24   \n",
      "1            2.7           1                  N           239           140   \n",
      "2            0.8           1                  N           262           141   \n",
      "3           10.2           1                  N           140           257   \n",
      "4            2.5           1                  N           246           239   \n",
      "\n",
      "   payment_type  fare_amount  extra  mta_tax  tip_amount  tolls_amount  \\\n",
      "0             2          4.5    0.5      0.5        0.00           0.0   \n",
      "1             2         14.0    0.5      0.5        0.00           0.0   \n",
      "2             1          6.0    0.5      0.5        1.00           0.0   \n",
      "3             2         33.5    0.5      0.5        0.00           0.0   \n",
      "4             1         12.5    0.5      0.5        2.75           0.0   \n",
      "\n",
      "   improvement_surcharge  total_amount  \n",
      "0                    0.3          5.80  \n",
      "1                    0.3         15.30  \n",
      "2                    0.3          8.30  \n",
      "3                    0.3         34.80  \n",
      "4                    0.3         16.55  \n"
     ]
    }
   ],
   "source": [
    "sample = pd.read_csv('nyc-tlc/trip data/sample.csv')\n",
    "print('sample:', sample.shape)\n",
    "print(sample.head())\n",
    "sample_manhattan = sample[sample['PULocationID'].isin(manhattan_location_ids)]\n",
    "print('sample_manhattan:', sample_manhattan.shape)\n",
    "print(sample_manhattan.head())"
   ]
  },
  {
   "cell_type": "code",
   "execution_count": null,
   "metadata": {},
   "outputs": [],
   "source": []
  },
  {
   "cell_type": "code",
   "execution_count": null,
   "metadata": {},
   "outputs": [],
   "source": [
    "tripdata_201801 = pd.read_csv('nyc-tlc/trip data/yellow_tripdata_2018-01.csv')\n",
    "print('tripdata_201801:', tripdata_201801.shape, tripdata_201801.head())"
   ]
  }
 ],
 "metadata": {
  "kernelspec": {
   "display_name": "Python 3",
   "language": "python",
   "name": "python3"
  },
  "language_info": {
   "codemirror_mode": {
    "name": "ipython",
    "version": 3
   },
   "file_extension": ".py",
   "mimetype": "text/x-python",
   "name": "python",
   "nbconvert_exporter": "python",
   "pygments_lexer": "ipython3",
   "version": "3.6.5"
  }
 },
 "nbformat": 4,
 "nbformat_minor": 2
}
